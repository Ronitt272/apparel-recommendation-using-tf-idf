{
 "cells": [
  {
   "cell_type": "markdown",
   "metadata": {
    "id": "oZgUeKHhy4dS"
   },
   "source": [
    "### Importing the dependencies"
   ]
  },
  {
   "cell_type": "code",
   "execution_count": null,
   "metadata": {
    "colab": {
     "base_uri": "https://localhost:8080/"
    },
    "id": "qXCLo61UHREh",
    "outputId": "3d5ecb2d-a1c9-4926-f9ff-315ac93bb9e7"
   },
   "outputs": [
    {
     "name": "stderr",
     "output_type": "stream",
     "text": [
      "[nltk_data] Downloading package stopwords to /root/nltk_data...\n",
      "[nltk_data]   Unzipping corpora/stopwords.zip.\n"
     ]
    },
    {
     "data": {
      "text/plain": [
       "True"
      ]
     },
     "execution_count": 1,
     "metadata": {},
     "output_type": "execute_result"
    }
   ],
   "source": [
    "import json\n",
    "import numpy as np\n",
    "import pandas as pd\n",
    "import matplotlib.pyplot as plt\n",
    "import nltk\n",
    "from nltk.corpus import stopwords\n",
    "from tensorflow.keras.preprocessing.text import Tokenizer\n",
    "from tensorflow.keras.preprocessing.sequence import pad_sequences\n",
    "nltk.download('stopwords')"
   ]
  },
  {
   "cell_type": "code",
   "execution_count": null,
   "metadata": {
    "colab": {
     "base_uri": "https://localhost:8080/"
    },
    "id": "FRXeZpW5H1AQ",
    "outputId": "7f6003a6-8bb6-42e2-968c-b09caece7c60"
   },
   "outputs": [
    {
     "name": "stdout",
     "output_type": "stream",
     "text": [
      "/usr/local/lib/python3.10/dist-packages/gdown/cli.py:121: FutureWarning: Option `--id` was deprecated in version 4.3.1 and will be removed in 5.0. You don't need to pass it anymore to use a file ID.\n",
      "  warnings.warn(\n",
      "Downloading...\n",
      "From: https://drive.google.com/uc?id=1xWkZ70Fc0y0WvzI-4Iw8fbPI9hP_biZT\n",
      "To: /content/tops_fashion.json\n",
      "100% 263M/263M [00:06<00:00, 39.9MB/s]\n"
     ]
    }
   ],
   "source": [
    "#downloading the Amazon Apparel dataset for the recommendation model\n",
    "!gdown --id 1xWkZ70Fc0y0WvzI-4Iw8fbPI9hP_biZT"
   ]
  },
  {
   "cell_type": "code",
   "execution_count": null,
   "metadata": {
    "id": "taB_Rqo1WYEf"
   },
   "outputs": [],
   "source": [
    "data = pd.read_json('/content/tops_fashion.json')"
   ]
  },
  {
   "cell_type": "markdown",
   "metadata": {
    "id": "DO_RwwMhLFZV"
   },
   "source": [
    "## Exploratory Data Analysis"
   ]
  },
  {
   "cell_type": "code",
   "execution_count": null,
   "metadata": {
    "id": "fi-0PuRjK4bE"
   },
   "outputs": [],
   "source": [
    "df = pd.DataFrame(data)\n",
    "df = df.drop(['sku', 'author', 'publisher','availability', 'reviews', 'large_image_url','availability_type','small_image_url','editorial_review','model','manufacturer'], axis=1) #dropping the unneccessary columns\n",
    "df.head()\n",
    "del data\n",
    "#asin => amazon standard identification number - simply a unique 10-digit identifier used by amazon to identify products in it's database"
   ]
  },
  {
   "cell_type": "code",
   "execution_count": null,
   "metadata": {
    "colab": {
     "base_uri": "https://localhost:8080/"
    },
    "id": "x0tFps-zXLel",
    "outputId": "d7a8c88d-868a-4884-c67b-4054f9200c46"
   },
   "outputs": [
    {
     "name": "stdout",
     "output_type": "stream",
     "text": [
      "Minions Como Superheroes Ironman Long Sleeve Round Neck T-Shirt For Women\n",
      "FIG Clothing Womens Izo Tunic\n",
      "FIG Clothing Womens Won Top\n",
      "Focal18 Sailor Collar Bubble Sleeve Blouse Shirt Women Mori Girl Casual Top Harajuku\n",
      "Featherlite Ladies' Long Sleeve Stain Resistant Tapered Twill Shirt, 2XL, Onyx Black/ Stone\n",
      "[Fits Cloth] Grape Solid Modern Long Sleeve Plain T Shirt\n",
      "Women's Unique 100% Cotton T - Special Olympics World Games 2015 White Size L\n",
      "Floerns Women's Bell Sleeve Beading Casual Blouse Top\n",
      "Standing on His Promises Rhinestones T-Shirt Ripped Cut Out Red Long\n",
      "Fila Women's Tulip Durable Tennis Style Comfort Tank\n"
     ]
    }
   ],
   "source": [
    "#displaying the titles of 10 of the records in the clothing dataset\n",
    "for i in range(10):\n",
    "  print(df['title'][i]);\n",
    "  plt.figure"
   ]
  },
  {
   "cell_type": "code",
   "execution_count": null,
   "metadata": {
    "colab": {
     "base_uri": "https://localhost:8080/"
    },
    "id": "Iq3l767_zRNI",
    "outputId": "3cd95213-a3f8-4d70-8b10-dd630d980fef"
   },
   "outputs": [
    {
     "name": "stdout",
     "output_type": "stream",
     "text": [
      "Attributes present in the data\n",
      "-> asin\n",
      "-> product_type_name\n",
      "-> formatted_price\n",
      "-> color\n",
      "-> brand\n",
      "-> title\n",
      "-> medium_image_url\n",
      "-> editorial_reivew\n",
      "\n",
      "Count of the Unique values and Null values pertaining to each of the attributes in the dataset\n",
      "-> Column: asin, Total values 183138, unique values 183138, null values 0\n",
      "-> Column: product_type_name, Total values 183138, unique values 72, null values 0\n",
      "-> Column: formatted_price, Total values 183138, unique values 3136, null values 154743\n",
      "-> Column: color, Total values 183138, unique values 7381, null values 118182\n",
      "-> Column: brand, Total values 183138, unique values 10578, null values 151\n",
      "-> Column: title, Total values 183138, unique values 175985, null values 0\n",
      "-> Column: medium_image_url, Total values 183138, unique values 170782, null values 0\n",
      "-> Column: editorial_reivew, Total values 183138, unique values 128058, null values 2758\n"
     ]
    }
   ],
   "source": [
    "print('Attributes present in the data') #listing down the attributes in the clothing dataset\n",
    "for col in df.columns:\n",
    "  print('->',col)\n",
    "\n",
    "print('\\nCount of the Unique values and Null values pertaining to each of the attributes in the dataset')\n",
    "for col in df.columns:\n",
    "  print('-> Column: {}, Total values {}, unique values {}, null values {}'.format(col, len(df[col]), len(set(list(df[col]))),sum(df[col].isnull().values)))"
   ]
  },
  {
   "cell_type": "markdown",
   "metadata": {
    "id": "X-1wTk_gZmBb"
   },
   "source": [
    "# Basis for Recommendation: Titles of clothes"
   ]
  },
  {
   "cell_type": "markdown",
   "metadata": {
    "id": "U6QLBqcp3Gk1"
   },
   "source": [
    "## Preprocessing Steps\n",
    "1. Removing products with very few words in it\n",
    "2. Sorting all the data in increasing alphabetical order of the titles of clothes.\n",
    "3. Removing titles that are very similar\n",
    "3. TF-IDF vectorizer has been used to convert the words present in the titles into numerical features. TF-IDF helps us generate numerical features that are descriptive of the actual images of the clothing."
   ]
  },
  {
   "cell_type": "code",
   "execution_count": null,
   "metadata": {
    "colab": {
     "base_uri": "https://localhost:8080/"
    },
    "id": "FxX1Y1bRJo-m",
    "outputId": "5df29282-2f3e-441b-e3a1-3a03cff513bc"
   },
   "outputs": [
    {
     "name": "stdout",
     "output_type": "stream",
     "text": [
      "Total elements in the clothing list:  183138\n",
      "Attributes of an apparel:  ['asin', 'product_type_name', 'formatted_price', 'color', 'brand', 'title', 'medium_image_url', 'editorial_reivew']\n",
      "Total null elements in formatter_price 154743\n"
     ]
    }
   ],
   "source": [
    "print('Total elements in the clothing list: ', len(df))\n",
    "print('Attributes of an apparel: ', list(df.columns))\n",
    "print('Total null elements in formatter_price', sum(df['formatted_price'].isnull().values))"
   ]
  },
  {
   "cell_type": "code",
   "execution_count": null,
   "metadata": {
    "id": "-nQGiE0Hbgn-"
   },
   "outputs": [],
   "source": [
    "df = df.sort_values('title') #sorting the data in increasing alphabetical order of titles\n",
    "df.reset_index(drop = True, inplace = True)"
   ]
  },
  {
   "cell_type": "code",
   "execution_count": null,
   "metadata": {
    "colab": {
     "base_uri": "https://localhost:8080/",
     "height": 840
    },
    "id": "fSzGA2cXcwH6",
    "outputId": "5c110e8a-e727-4d9a-af03-e640c1ec43fc"
   },
   "outputs": [
    {
     "data": {
      "text/html": [
       "\n",
       "  <div id=\"df-30bc3531-88a0-4528-b41d-da544b39af10\">\n",
       "    <div class=\"colab-df-container\">\n",
       "      <div>\n",
       "<style scoped>\n",
       "    .dataframe tbody tr th:only-of-type {\n",
       "        vertical-align: middle;\n",
       "    }\n",
       "\n",
       "    .dataframe tbody tr th {\n",
       "        vertical-align: top;\n",
       "    }\n",
       "\n",
       "    .dataframe thead th {\n",
       "        text-align: right;\n",
       "    }\n",
       "</style>\n",
       "<table border=\"1\" class=\"dataframe\">\n",
       "  <thead>\n",
       "    <tr style=\"text-align: right;\">\n",
       "      <th></th>\n",
       "      <th>asin</th>\n",
       "      <th>product_type_name</th>\n",
       "      <th>formatted_price</th>\n",
       "      <th>color</th>\n",
       "      <th>brand</th>\n",
       "      <th>title</th>\n",
       "      <th>medium_image_url</th>\n",
       "      <th>editorial_reivew</th>\n",
       "    </tr>\n",
       "  </thead>\n",
       "  <tbody>\n",
       "    <tr>\n",
       "      <th>0</th>\n",
       "      <td>B008D30AGK</td>\n",
       "      <td>SHIRT</td>\n",
       "      <td>$7.51</td>\n",
       "      <td>Multicolored</td>\n",
       "      <td>Out+of+Print+Clothing</td>\n",
       "      <td>\"1984\" Retro Book Cover Women's SLim Fit T-Shi...</td>\n",
       "      <td>https://images-na.ssl-images-amazon.com/images...</td>\n",
       "      <td></td>\n",
       "    </tr>\n",
       "    <tr>\n",
       "      <th>1</th>\n",
       "      <td>B071WD44WX</td>\n",
       "      <td>SHIRT</td>\n",
       "      <td>None</td>\n",
       "      <td>None</td>\n",
       "      <td>Sweet Claire</td>\n",
       "      <td>\"ASAP\" As Southern As Possible Tank Top, Heath...</td>\n",
       "      <td>https://images-na.ssl-images-amazon.com/images...</td>\n",
       "      <td>&lt;p&gt;THIS IS FOR THIS TANK IN HEATHER GREY WITH ...</td>\n",
       "    </tr>\n",
       "    <tr>\n",
       "      <th>2</th>\n",
       "      <td>B072M88RQ6</td>\n",
       "      <td>SHIRT</td>\n",
       "      <td>None</td>\n",
       "      <td>None</td>\n",
       "      <td>Sweet Claire</td>\n",
       "      <td>\"ASAP\" As Southern As Possible Tank Top, Off W...</td>\n",
       "      <td>https://images-na.ssl-images-amazon.com/images...</td>\n",
       "      <td>&lt;p&gt;THIS IS FOR THIS TANK IN OFF WHITE WITH BLA...</td>\n",
       "    </tr>\n",
       "    <tr>\n",
       "      <th>3</th>\n",
       "      <td>B0739MNWM2</td>\n",
       "      <td>ORCA_SHIRT</td>\n",
       "      <td>None</td>\n",
       "      <td>None</td>\n",
       "      <td>Natural Black Girl T-Shirt</td>\n",
       "      <td>\"Afro Bae\" Beautiful Black Women's Shirt</td>\n",
       "      <td>https://images-na.ssl-images-amazon.com/images...</td>\n",
       "      <td></td>\n",
       "    </tr>\n",
       "    <tr>\n",
       "      <th>4</th>\n",
       "      <td>B01E0XLYHA</td>\n",
       "      <td>SHIRT</td>\n",
       "      <td>None</td>\n",
       "      <td>Blue</td>\n",
       "      <td>GreaterGood</td>\n",
       "      <td>\"Ask Me About My Granddog\" T-Shirt</td>\n",
       "      <td>https://images-na.ssl-images-amazon.com/images...</td>\n",
       "      <td></td>\n",
       "    </tr>\n",
       "    <tr>\n",
       "      <th>5</th>\n",
       "      <td>B01IADM09M</td>\n",
       "      <td>SHIRT</td>\n",
       "      <td>None</td>\n",
       "      <td>None</td>\n",
       "      <td>Acting Pro</td>\n",
       "      <td>\"Baby Bear\" Round Neck Racerback Tank Top</td>\n",
       "      <td>https://images-na.ssl-images-amazon.com/images...</td>\n",
       "      <td>Baby Bear graphic print relaxed fit tank with ...</td>\n",
       "    </tr>\n",
       "    <tr>\n",
       "      <th>6</th>\n",
       "      <td>B072J96Z94</td>\n",
       "      <td>SHIRT</td>\n",
       "      <td>None</td>\n",
       "      <td>None</td>\n",
       "      <td>Hoop Culture</td>\n",
       "      <td>\"Basketball Mom\" Women's T-Shirt - Hoop Culture</td>\n",
       "      <td>https://images-na.ssl-images-amazon.com/images...</td>\n",
       "      <td>Mom's represent your child in style with the o...</td>\n",
       "    </tr>\n",
       "    <tr>\n",
       "      <th>7</th>\n",
       "      <td>B01I5YLQAA</td>\n",
       "      <td>SHIRT</td>\n",
       "      <td>None</td>\n",
       "      <td>None</td>\n",
       "      <td>Acting Pro</td>\n",
       "      <td>\"Black Is My Happy Color\" Round Neck Tank Top</td>\n",
       "      <td>https://images-na.ssl-images-amazon.com/images...</td>\n",
       "      <td>Black Is My Happy Color graphic print relaxed ...</td>\n",
       "    </tr>\n",
       "    <tr>\n",
       "      <th>8</th>\n",
       "      <td>B01IC1F9TK</td>\n",
       "      <td>SHIRT</td>\n",
       "      <td>None</td>\n",
       "      <td>None</td>\n",
       "      <td>Acting Pro</td>\n",
       "      <td>\"Boheme Life\" Scoop Neck Racerback Tank Top</td>\n",
       "      <td>https://images-na.ssl-images-amazon.com/images...</td>\n",
       "      <td>Graphic print, hip length tank top in a relaxe...</td>\n",
       "    </tr>\n",
       "    <tr>\n",
       "      <th>9</th>\n",
       "      <td>B01I5XOLVM</td>\n",
       "      <td>SHIRT</td>\n",
       "      <td>None</td>\n",
       "      <td>None</td>\n",
       "      <td>Acting Pro</td>\n",
       "      <td>\"But First, Wine\" Round Neck Tank Top</td>\n",
       "      <td>https://images-na.ssl-images-amazon.com/images...</td>\n",
       "      <td>But First, Wine graphic printed knit muscle ta...</td>\n",
       "    </tr>\n",
       "  </tbody>\n",
       "</table>\n",
       "</div>\n",
       "      <button class=\"colab-df-convert\" onclick=\"convertToInteractive('df-30bc3531-88a0-4528-b41d-da544b39af10')\"\n",
       "              title=\"Convert this dataframe to an interactive table.\"\n",
       "              style=\"display:none;\">\n",
       "        \n",
       "  <svg xmlns=\"http://www.w3.org/2000/svg\" height=\"24px\"viewBox=\"0 0 24 24\"\n",
       "       width=\"24px\">\n",
       "    <path d=\"M0 0h24v24H0V0z\" fill=\"none\"/>\n",
       "    <path d=\"M18.56 5.44l.94 2.06.94-2.06 2.06-.94-2.06-.94-.94-2.06-.94 2.06-2.06.94zm-11 1L8.5 8.5l.94-2.06 2.06-.94-2.06-.94L8.5 2.5l-.94 2.06-2.06.94zm10 10l.94 2.06.94-2.06 2.06-.94-2.06-.94-.94-2.06-.94 2.06-2.06.94z\"/><path d=\"M17.41 7.96l-1.37-1.37c-.4-.4-.92-.59-1.43-.59-.52 0-1.04.2-1.43.59L10.3 9.45l-7.72 7.72c-.78.78-.78 2.05 0 2.83L4 21.41c.39.39.9.59 1.41.59.51 0 1.02-.2 1.41-.59l7.78-7.78 2.81-2.81c.8-.78.8-2.07 0-2.86zM5.41 20L4 18.59l7.72-7.72 1.47 1.35L5.41 20z\"/>\n",
       "  </svg>\n",
       "      </button>\n",
       "      \n",
       "  <style>\n",
       "    .colab-df-container {\n",
       "      display:flex;\n",
       "      flex-wrap:wrap;\n",
       "      gap: 12px;\n",
       "    }\n",
       "\n",
       "    .colab-df-convert {\n",
       "      background-color: #E8F0FE;\n",
       "      border: none;\n",
       "      border-radius: 50%;\n",
       "      cursor: pointer;\n",
       "      display: none;\n",
       "      fill: #1967D2;\n",
       "      height: 32px;\n",
       "      padding: 0 0 0 0;\n",
       "      width: 32px;\n",
       "    }\n",
       "\n",
       "    .colab-df-convert:hover {\n",
       "      background-color: #E2EBFA;\n",
       "      box-shadow: 0px 1px 2px rgba(60, 64, 67, 0.3), 0px 1px 3px 1px rgba(60, 64, 67, 0.15);\n",
       "      fill: #174EA6;\n",
       "    }\n",
       "\n",
       "    [theme=dark] .colab-df-convert {\n",
       "      background-color: #3B4455;\n",
       "      fill: #D2E3FC;\n",
       "    }\n",
       "\n",
       "    [theme=dark] .colab-df-convert:hover {\n",
       "      background-color: #434B5C;\n",
       "      box-shadow: 0px 1px 3px 1px rgba(0, 0, 0, 0.15);\n",
       "      filter: drop-shadow(0px 1px 2px rgba(0, 0, 0, 0.3));\n",
       "      fill: #FFFFFF;\n",
       "    }\n",
       "  </style>\n",
       "\n",
       "      <script>\n",
       "        const buttonEl =\n",
       "          document.querySelector('#df-30bc3531-88a0-4528-b41d-da544b39af10 button.colab-df-convert');\n",
       "        buttonEl.style.display =\n",
       "          google.colab.kernel.accessAllowed ? 'block' : 'none';\n",
       "\n",
       "        async function convertToInteractive(key) {\n",
       "          const element = document.querySelector('#df-30bc3531-88a0-4528-b41d-da544b39af10');\n",
       "          const dataTable =\n",
       "            await google.colab.kernel.invokeFunction('convertToInteractive',\n",
       "                                                     [key], {});\n",
       "          if (!dataTable) return;\n",
       "\n",
       "          const docLinkHtml = 'Like what you see? Visit the ' +\n",
       "            '<a target=\"_blank\" href=https://colab.research.google.com/notebooks/data_table.ipynb>data table notebook</a>'\n",
       "            + ' to learn more about interactive tables.';\n",
       "          element.innerHTML = '';\n",
       "          dataTable['output_type'] = 'display_data';\n",
       "          await google.colab.output.renderOutput(dataTable, element);\n",
       "          const docLink = document.createElement('div');\n",
       "          docLink.innerHTML = docLinkHtml;\n",
       "          element.appendChild(docLink);\n",
       "        }\n",
       "      </script>\n",
       "    </div>\n",
       "  </div>\n",
       "  "
      ],
      "text/plain": [
       "         asin product_type_name formatted_price         color  \\\n",
       "0  B008D30AGK             SHIRT           $7.51  Multicolored   \n",
       "1  B071WD44WX             SHIRT            None          None   \n",
       "2  B072M88RQ6             SHIRT            None          None   \n",
       "3  B0739MNWM2        ORCA_SHIRT            None          None   \n",
       "4  B01E0XLYHA             SHIRT            None          Blue   \n",
       "5  B01IADM09M             SHIRT            None          None   \n",
       "6  B072J96Z94             SHIRT            None          None   \n",
       "7  B01I5YLQAA             SHIRT            None          None   \n",
       "8  B01IC1F9TK             SHIRT            None          None   \n",
       "9  B01I5XOLVM             SHIRT            None          None   \n",
       "\n",
       "                        brand  \\\n",
       "0       Out+of+Print+Clothing   \n",
       "1                Sweet Claire   \n",
       "2                Sweet Claire   \n",
       "3  Natural Black Girl T-Shirt   \n",
       "4                 GreaterGood   \n",
       "5                  Acting Pro   \n",
       "6                Hoop Culture   \n",
       "7                  Acting Pro   \n",
       "8                  Acting Pro   \n",
       "9                  Acting Pro   \n",
       "\n",
       "                                               title  \\\n",
       "0  \"1984\" Retro Book Cover Women's SLim Fit T-Shi...   \n",
       "1  \"ASAP\" As Southern As Possible Tank Top, Heath...   \n",
       "2  \"ASAP\" As Southern As Possible Tank Top, Off W...   \n",
       "3           \"Afro Bae\" Beautiful Black Women's Shirt   \n",
       "4                 \"Ask Me About My Granddog\" T-Shirt   \n",
       "5          \"Baby Bear\" Round Neck Racerback Tank Top   \n",
       "6    \"Basketball Mom\" Women's T-Shirt - Hoop Culture   \n",
       "7      \"Black Is My Happy Color\" Round Neck Tank Top   \n",
       "8        \"Boheme Life\" Scoop Neck Racerback Tank Top   \n",
       "9              \"But First, Wine\" Round Neck Tank Top   \n",
       "\n",
       "                                    medium_image_url  \\\n",
       "0  https://images-na.ssl-images-amazon.com/images...   \n",
       "1  https://images-na.ssl-images-amazon.com/images...   \n",
       "2  https://images-na.ssl-images-amazon.com/images...   \n",
       "3  https://images-na.ssl-images-amazon.com/images...   \n",
       "4  https://images-na.ssl-images-amazon.com/images...   \n",
       "5  https://images-na.ssl-images-amazon.com/images...   \n",
       "6  https://images-na.ssl-images-amazon.com/images...   \n",
       "7  https://images-na.ssl-images-amazon.com/images...   \n",
       "8  https://images-na.ssl-images-amazon.com/images...   \n",
       "9  https://images-na.ssl-images-amazon.com/images...   \n",
       "\n",
       "                                    editorial_reivew  \n",
       "0                                                     \n",
       "1  <p>THIS IS FOR THIS TANK IN HEATHER GREY WITH ...  \n",
       "2  <p>THIS IS FOR THIS TANK IN OFF WHITE WITH BLA...  \n",
       "3                                                     \n",
       "4                                                     \n",
       "5  Baby Bear graphic print relaxed fit tank with ...  \n",
       "6  Mom's represent your child in style with the o...  \n",
       "7  Black Is My Happy Color graphic print relaxed ...  \n",
       "8  Graphic print, hip length tank top in a relaxe...  \n",
       "9  But First, Wine graphic printed knit muscle ta...  "
      ]
     },
     "execution_count": 9,
     "metadata": {},
     "output_type": "execute_result"
    }
   ],
   "source": [
    "df.head(10) #shwoing the first 10 entries in the database"
   ]
  },
  {
   "cell_type": "markdown",
   "metadata": {
    "id": "UOLS8bbIXCFk"
   },
   "source": [
    "### **Cleaning the texts**"
   ]
  },
  {
   "cell_type": "markdown",
   "metadata": {
    "id": "jwaxMDhOQCmU"
   },
   "source": [
    "### Removing duplicates in data"
   ]
  },
  {
   "cell_type": "code",
   "execution_count": null,
   "metadata": {
    "colab": {
     "base_uri": "https://localhost:8080/"
    },
    "id": "viFMwpk3WNsb",
    "outputId": "bae12a0d-b55b-4b53-f282-a67f306ddc44"
   },
   "outputs": [
    {
     "name": "stdout",
     "output_type": "stream",
     "text": [
      "165698\n"
     ]
    }
   ],
   "source": [
    "df = df.drop_duplicates(subset = 'medium_image_url').reset_index().drop(['index'],axis=1) #removing entires with duplicates in medium_image_url attribute\n",
    "df = df.drop_duplicates(subset = 'title').reset_index().drop(['index'],axis=1) #removing entries with duplicates in title attribute\n",
    "print(len(df))"
   ]
  },
  {
   "cell_type": "markdown",
   "metadata": {
    "id": "n9CnSk9qW28z"
   },
   "source": [
    "### Removing the null entries"
   ]
  },
  {
   "cell_type": "code",
   "execution_count": null,
   "metadata": {
    "colab": {
     "base_uri": "https://localhost:8080/"
    },
    "id": "4aRgaALIV7J4",
    "outputId": "e0f008c5-787f-41b0-fc02-381201122e10"
   },
   "outputs": [
    {
     "name": "stdout",
     "output_type": "stream",
     "text": [
      "with null entries: \n",
      "without null entries: \n"
     ]
    },
    {
     "data": {
      "text/plain": [
       "18785"
      ]
     },
     "execution_count": 11,
     "metadata": {},
     "output_type": "execute_result"
    }
   ],
   "source": [
    "print('with null entries: ')\n",
    "len(df)\n",
    "df =df.loc[~df['color'].isnull()]\n",
    "df =df.loc[~df['title'].isnull()]\n",
    "df =df.loc[~df['formatted_price'].isnull()]\n",
    "print('without null entries: ')\n",
    "len(df)"
   ]
  },
  {
   "cell_type": "markdown",
   "metadata": {
    "id": "9dGH54CgjyYB"
   },
   "source": [
    "### Removing stop words"
   ]
  },
  {
   "cell_type": "code",
   "execution_count": null,
   "metadata": {
    "id": "PU0E_gJXfKsN"
   },
   "outputs": [],
   "source": [
    "stopwrds = list(stopwords.words('english')) #list of stopwords in English language\n",
    "l = list(df['title'])\n",
    "for i in range(len(df['title'])):\n",
    "  for j in range(len(stopwrds)):\n",
    "    l[i] = l[i].replace(' '+stopwrds[j]+' ',' ') #removing stopwords from the titles of each of the entries in the clothing dataset\n",
    "df['title']=l"
   ]
  },
  {
   "cell_type": "code",
   "execution_count": null,
   "metadata": {
    "id": "OXut41KwPtVX"
   },
   "outputs": [],
   "source": [
    "#vectorization of text corpus\n",
    "tokenizer = Tokenizer(oov_token=\"<UNK>\") # oov_token = \"<UNK>\" replaces out-of-vocabulary words during text-to-sequence calls\n",
    "tokenizer.fit_on_texts(list(df['title']))     #list of titles provided to train the tokenizer with respect to internal vocabulary\n",
    "word_index = tokenizer.word_index\n",
    "sequences = tokenizer.texts_to_sequences(list(df['title'])) #text transformed to a sequence of integers - acquiring numerical features\n",
    "sequences[0]\n",
    "tok_sent = tokenizer.sequences_to_texts(sequences)  #each numerical sequence transformed back to text\n",
    "df['title']=tok_sent"
   ]
  },
  {
   "cell_type": "code",
   "execution_count": null,
   "metadata": {
    "colab": {
     "base_uri": "https://localhost:8080/"
    },
    "id": "pKVCz-eqO-jj",
    "outputId": "1081f896-8c2e-40bf-ce53-5762f9b856c1"
   },
   "outputs": [
    {
     "name": "stdout",
     "output_type": "stream",
     "text": [
      "Column: asin, Total values 18785, unique values 18785, null values 0\n",
      "Column: product_type_name, Total values 18785, unique values 54, null values 0\n",
      "Column: formatted_price, Total values 18785, unique values 2928, null values 0\n",
      "Column: color, Total values 18785, unique values 4243, null values 0\n",
      "Column: brand, Total values 18785, unique values 3534, null values 55\n",
      "Column: title, Total values 18785, unique values 18781, null values 0\n",
      "Column: medium_image_url, Total values 18785, unique values 18785, null values 0\n",
      "Column: editorial_reivew, Total values 18785, unique values 12691, null values 282\n"
     ]
    }
   ],
   "source": [
    "for col in df.columns:\n",
    "  print('Column: {}, Total values {}, unique values {}, null values {}'.format(col, len(df[col]), len(set(list(df[col]))),sum(df[col].isnull().values)))"
   ]
  },
  {
   "cell_type": "code",
   "execution_count": null,
   "metadata": {
    "colab": {
     "base_uri": "https://localhost:8080/",
     "height": 441
    },
    "id": "tHEsoo7luCRw",
    "outputId": "03158637-bdc1-4029-cd85-d48e8cdbcbab"
   },
   "outputs": [
    {
     "data": {
      "text/html": [
       "\n",
       "  <div id=\"df-ff79b1cb-e21c-4ca9-9fb2-3a5307747b7c\">\n",
       "    <div class=\"colab-df-container\">\n",
       "      <div>\n",
       "<style scoped>\n",
       "    .dataframe tbody tr th:only-of-type {\n",
       "        vertical-align: middle;\n",
       "    }\n",
       "\n",
       "    .dataframe tbody tr th {\n",
       "        vertical-align: top;\n",
       "    }\n",
       "\n",
       "    .dataframe thead th {\n",
       "        text-align: right;\n",
       "    }\n",
       "</style>\n",
       "<table border=\"1\" class=\"dataframe\">\n",
       "  <thead>\n",
       "    <tr style=\"text-align: right;\">\n",
       "      <th></th>\n",
       "      <th>asin</th>\n",
       "      <th>product_type_name</th>\n",
       "      <th>formatted_price</th>\n",
       "      <th>color</th>\n",
       "      <th>brand</th>\n",
       "      <th>title</th>\n",
       "      <th>medium_image_url</th>\n",
       "      <th>editorial_reivew</th>\n",
       "    </tr>\n",
       "  </thead>\n",
       "  <tbody>\n",
       "    <tr>\n",
       "      <th>0</th>\n",
       "      <td>B008D30AGK</td>\n",
       "      <td>SHIRT</td>\n",
       "      <td>$7.51</td>\n",
       "      <td>Multicolored</td>\n",
       "      <td>Out+of+Print+Clothing</td>\n",
       "      <td>1984 retro book cover women's slim fit t shirt...</td>\n",
       "      <td>https://images-na.ssl-images-amazon.com/images...</td>\n",
       "      <td></td>\n",
       "    </tr>\n",
       "    <tr>\n",
       "      <th>1</th>\n",
       "      <td>B003IDE8XQ</td>\n",
       "      <td>HOME</td>\n",
       "      <td>$18.99</td>\n",
       "      <td>Grey</td>\n",
       "      <td>Maggie's Organics</td>\n",
       "      <td>camisoles grey medium fair labor 1 pc</td>\n",
       "      <td>https://images-na.ssl-images-amazon.com/images...</td>\n",
       "      <td></td>\n",
       "    </tr>\n",
       "    <tr>\n",
       "      <th>2</th>\n",
       "      <td>B00KI3VDXM</td>\n",
       "      <td>SHIRT</td>\n",
       "      <td>$39.99</td>\n",
       "      <td>Purple</td>\n",
       "      <td>Crazy4Bling</td>\n",
       "      <td>i wanna be adored long sleeve top shredded sho...</td>\n",
       "      <td>https://images-na.ssl-images-amazon.com/images...</td>\n",
       "      <td>Edgy but casual long sleeve graphic design top...</td>\n",
       "    </tr>\n",
       "    <tr>\n",
       "      <th>3</th>\n",
       "      <td>B073SKNQHD</td>\n",
       "      <td>SHIRT</td>\n",
       "      <td>$24.99</td>\n",
       "      <td>Premium Heather Gray</td>\n",
       "      <td>The Workout Princess</td>\n",
       "      <td>i workout to burn the crazy tri blend tank top...</td>\n",
       "      <td>https://images-na.ssl-images-amazon.com/images...</td>\n",
       "      <td>Meet your new favorite basic. This daring, top...</td>\n",
       "    </tr>\n",
       "    <tr>\n",
       "      <th>4</th>\n",
       "      <td>B06WRW8RQ1</td>\n",
       "      <td>SHIRT</td>\n",
       "      <td>$9.38</td>\n",
       "      <td>Black</td>\n",
       "      <td>AJ</td>\n",
       "      <td>life journey self help diy t shirt women silve...</td>\n",
       "      <td>https://images-na.ssl-images-amazon.com/images...</td>\n",
       "      <td>Product Details&lt;br&gt;&lt;br&gt;5.4 oz 100% cotton (sol...</td>\n",
       "    </tr>\n",
       "  </tbody>\n",
       "</table>\n",
       "</div>\n",
       "      <button class=\"colab-df-convert\" onclick=\"convertToInteractive('df-ff79b1cb-e21c-4ca9-9fb2-3a5307747b7c')\"\n",
       "              title=\"Convert this dataframe to an interactive table.\"\n",
       "              style=\"display:none;\">\n",
       "        \n",
       "  <svg xmlns=\"http://www.w3.org/2000/svg\" height=\"24px\"viewBox=\"0 0 24 24\"\n",
       "       width=\"24px\">\n",
       "    <path d=\"M0 0h24v24H0V0z\" fill=\"none\"/>\n",
       "    <path d=\"M18.56 5.44l.94 2.06.94-2.06 2.06-.94-2.06-.94-.94-2.06-.94 2.06-2.06.94zm-11 1L8.5 8.5l.94-2.06 2.06-.94-2.06-.94L8.5 2.5l-.94 2.06-2.06.94zm10 10l.94 2.06.94-2.06 2.06-.94-2.06-.94-.94-2.06-.94 2.06-2.06.94z\"/><path d=\"M17.41 7.96l-1.37-1.37c-.4-.4-.92-.59-1.43-.59-.52 0-1.04.2-1.43.59L10.3 9.45l-7.72 7.72c-.78.78-.78 2.05 0 2.83L4 21.41c.39.39.9.59 1.41.59.51 0 1.02-.2 1.41-.59l7.78-7.78 2.81-2.81c.8-.78.8-2.07 0-2.86zM5.41 20L4 18.59l7.72-7.72 1.47 1.35L5.41 20z\"/>\n",
       "  </svg>\n",
       "      </button>\n",
       "      \n",
       "  <style>\n",
       "    .colab-df-container {\n",
       "      display:flex;\n",
       "      flex-wrap:wrap;\n",
       "      gap: 12px;\n",
       "    }\n",
       "\n",
       "    .colab-df-convert {\n",
       "      background-color: #E8F0FE;\n",
       "      border: none;\n",
       "      border-radius: 50%;\n",
       "      cursor: pointer;\n",
       "      display: none;\n",
       "      fill: #1967D2;\n",
       "      height: 32px;\n",
       "      padding: 0 0 0 0;\n",
       "      width: 32px;\n",
       "    }\n",
       "\n",
       "    .colab-df-convert:hover {\n",
       "      background-color: #E2EBFA;\n",
       "      box-shadow: 0px 1px 2px rgba(60, 64, 67, 0.3), 0px 1px 3px 1px rgba(60, 64, 67, 0.15);\n",
       "      fill: #174EA6;\n",
       "    }\n",
       "\n",
       "    [theme=dark] .colab-df-convert {\n",
       "      background-color: #3B4455;\n",
       "      fill: #D2E3FC;\n",
       "    }\n",
       "\n",
       "    [theme=dark] .colab-df-convert:hover {\n",
       "      background-color: #434B5C;\n",
       "      box-shadow: 0px 1px 3px 1px rgba(0, 0, 0, 0.15);\n",
       "      filter: drop-shadow(0px 1px 2px rgba(0, 0, 0, 0.3));\n",
       "      fill: #FFFFFF;\n",
       "    }\n",
       "  </style>\n",
       "\n",
       "      <script>\n",
       "        const buttonEl =\n",
       "          document.querySelector('#df-ff79b1cb-e21c-4ca9-9fb2-3a5307747b7c button.colab-df-convert');\n",
       "        buttonEl.style.display =\n",
       "          google.colab.kernel.accessAllowed ? 'block' : 'none';\n",
       "\n",
       "        async function convertToInteractive(key) {\n",
       "          const element = document.querySelector('#df-ff79b1cb-e21c-4ca9-9fb2-3a5307747b7c');\n",
       "          const dataTable =\n",
       "            await google.colab.kernel.invokeFunction('convertToInteractive',\n",
       "                                                     [key], {});\n",
       "          if (!dataTable) return;\n",
       "\n",
       "          const docLinkHtml = 'Like what you see? Visit the ' +\n",
       "            '<a target=\"_blank\" href=https://colab.research.google.com/notebooks/data_table.ipynb>data table notebook</a>'\n",
       "            + ' to learn more about interactive tables.';\n",
       "          element.innerHTML = '';\n",
       "          dataTable['output_type'] = 'display_data';\n",
       "          await google.colab.output.renderOutput(dataTable, element);\n",
       "          const docLink = document.createElement('div');\n",
       "          docLink.innerHTML = docLinkHtml;\n",
       "          element.appendChild(docLink);\n",
       "        }\n",
       "      </script>\n",
       "    </div>\n",
       "  </div>\n",
       "  "
      ],
      "text/plain": [
       "         asin product_type_name formatted_price                 color  \\\n",
       "0  B008D30AGK             SHIRT           $7.51          Multicolored   \n",
       "1  B003IDE8XQ              HOME          $18.99                  Grey   \n",
       "2  B00KI3VDXM             SHIRT          $39.99                Purple   \n",
       "3  B073SKNQHD             SHIRT          $24.99  Premium Heather Gray   \n",
       "4  B06WRW8RQ1             SHIRT           $9.38                 Black   \n",
       "\n",
       "                   brand                                              title  \\\n",
       "0  Out+of+Print+Clothing  1984 retro book cover women's slim fit t shirt...   \n",
       "1      Maggie's Organics              camisoles grey medium fair labor 1 pc   \n",
       "2            Crazy4Bling  i wanna be adored long sleeve top shredded sho...   \n",
       "3   The Workout Princess  i workout to burn the crazy tri blend tank top...   \n",
       "4                     AJ  life journey self help diy t shirt women silve...   \n",
       "\n",
       "                                    medium_image_url  \\\n",
       "0  https://images-na.ssl-images-amazon.com/images...   \n",
       "1  https://images-na.ssl-images-amazon.com/images...   \n",
       "2  https://images-na.ssl-images-amazon.com/images...   \n",
       "3  https://images-na.ssl-images-amazon.com/images...   \n",
       "4  https://images-na.ssl-images-amazon.com/images...   \n",
       "\n",
       "                                    editorial_reivew  \n",
       "0                                                     \n",
       "1                                                     \n",
       "2  Edgy but casual long sleeve graphic design top...  \n",
       "3  Meet your new favorite basic. This daring, top...  \n",
       "4  Product Details<br><br>5.4 oz 100% cotton (sol...  "
      ]
     },
     "execution_count": 15,
     "metadata": {},
     "output_type": "execute_result"
    }
   ],
   "source": [
    "df.reset_index(drop=True,inplace=True)\n",
    "indices = list(df.index)\n",
    "df.head(5)"
   ]
  },
  {
   "cell_type": "markdown",
   "metadata": {
    "id": "wma74mou2RkL"
   },
   "source": [
    "### Removing titles that are very similar to eachother"
   ]
  },
  {
   "cell_type": "code",
   "execution_count": null,
   "metadata": {
    "id": "TlK15hIJtXlJ"
   },
   "outputs": [],
   "source": [
    "import itertools\n",
    "deduped_idx = []\n",
    "i = 0\n",
    "j = 0\n",
    "while i < len(df) and j < len(df):\n",
    "    previous_i = i\n",
    "    a = df['title'].loc[i].split()\n",
    "    j = i+1\n",
    "    while j < len(df):\n",
    "        b = df['title'].loc[indices[j]].split()\n",
    "        length = max(len(a), len(b))\n",
    "        count  = 0\n",
    "        for k in itertools.zip_longest(a,b):\n",
    "            if (k[0] == k[1]):\n",
    "                count += 1\n",
    "        if (length - count) > 2:\n",
    "            deduped_idx.append(i)\n",
    "            i = j\n",
    "            break\n",
    "        else:\n",
    "            j += 1\n",
    "    if previous_i == i:\n",
    "        break"
   ]
  },
  {
   "cell_type": "code",
   "execution_count": null,
   "metadata": {
    "colab": {
     "base_uri": "https://localhost:8080/"
    },
    "id": "e_2rd6Yx6MOU",
    "outputId": "da67d51b-be0f-4f7d-d4fd-ece42ee1fd90"
   },
   "outputs": [
    {
     "name": "stdout",
     "output_type": "stream",
     "text": [
      "16231\n"
     ]
    }
   ],
   "source": [
    "df = df.iloc[deduped_idx]\n",
    "df.reset_index(drop=True,inplace=True)\n",
    "df.head(2)\n",
    "list_titles = list(df['title'])\n",
    "print(len(df))"
   ]
  },
  {
   "cell_type": "code",
   "execution_count": null,
   "metadata": {
    "id": "oxZeZ2VGVJ6-"
   },
   "outputs": [],
   "source": [
    "import sklearn\n",
    "from sklearn.feature_extraction.text import CountVectorizer\n",
    "from sklearn.feature_extraction.text import TfidfVectorizer"
   ]
  },
  {
   "cell_type": "code",
   "execution_count": null,
   "metadata": {
    "id": "ooJCvEgqNqAg"
   },
   "outputs": [],
   "source": [
    "vectorizer = CountVectorizer()\n",
    "vectorizer\n",
    "X = vectorizer.fit_transform(list_titles) #corpus is a list of sentences\n",
    "analyze = vectorizer.build_analyzer()"
   ]
  },
  {
   "cell_type": "code",
   "execution_count": null,
   "metadata": {
    "colab": {
     "base_uri": "https://localhost:8080/"
    },
    "id": "6k7eLjZQP8_Y",
    "outputId": "faf7c656-9b60-4e47-ae73-fd17e9b823ee"
   },
   "outputs": [
    {
     "name": "stdout",
     "output_type": "stream",
     "text": [
      "  (0, 10887)\t0.24162674775713033\n",
      "  (0, 2821)\t0.28256912543572676\n",
      "  (0, 7965)\t0.18454254204583964\n",
      "  (0, 7409)\t0.2830132088074371\n",
      "  (0, 8895)\t0.11072608185516118\n",
      "  (0, 4181)\t0.23036773989767353\n",
      "  (0, 9114)\t0.2575014230132252\n",
      "  (0, 10790)\t0.17676862303918606\n",
      "  (0, 3056)\t0.3033675085286899\n",
      "  (0, 2072)\t0.4361048142979756\n",
      "  (0, 8293)\t0.3168455416233329\n",
      "  (0, 239)\t0.44958284739261867\n",
      "  (1, 7581)\t0.4406075473906304\n",
      "  (1, 5856)\t0.5251067623295452\n",
      "  (1, 4008)\t0.4887149312797496\n",
      "  (1, 6597)\t0.1833031335137284\n",
      "  (1, 4737)\t0.24216802520840175\n",
      "  (1, 2410)\t0.446139218286329\n",
      "  (2, 8929)\t0.3918231291967685\n",
      "  (2, 8933)\t0.47733677876623676\n",
      "  (2, 10047)\t0.09528794465563686\n",
      "  (2, 9097)\t0.1250912512361386\n",
      "  (2, 6191)\t0.157537172958671\n",
      "  (2, 1072)\t0.47733677876623676\n",
      "  (2, 1729)\t0.3407351604504286\n",
      "  :\t:\n",
      "  (16228, 8218)\t0.17761916965795227\n",
      "  (16228, 8919)\t0.16062180940505558\n",
      "  (16228, 9763)\t0.12928177732961466\n",
      "  (16228, 10047)\t0.08756986660979656\n",
      "  (16228, 9097)\t0.11495918213357324\n",
      "  (16229, 10864)\t0.4625931465246057\n",
      "  (16229, 2193)\t0.43832185233755383\n",
      "  (16229, 8989)\t0.4877937173964749\n",
      "  (16229, 6123)\t0.3154516859403802\n",
      "  (16229, 3039)\t0.2309514306133084\n",
      "  (16229, 6204)\t0.26393083874843964\n",
      "  (16229, 1985)\t0.14657214338435687\n",
      "  (16229, 10683)\t0.16820687906075832\n",
      "  (16229, 9097)\t0.14613607585257815\n",
      "  (16229, 6191)\t0.1840405626259984\n",
      "  (16229, 8895)\t0.13177179153599577\n",
      "  (16229, 10790)\t0.10518352024635874\n",
      "  (16230, 10864)\t0.5601420008651979\n",
      "  (16230, 8899)\t0.6218853884189091\n",
      "  (16230, 6204)\t0.3195869831130696\n",
      "  (16230, 10792)\t0.1833470524802374\n",
      "  (16230, 1985)\t0.17748039348016437\n",
      "  (16230, 9101)\t0.25380500863872874\n",
      "  (16230, 10047)\t0.13479302137527654\n",
      "  (16230, 6191)\t0.22284992712100232\n"
     ]
    }
   ],
   "source": [
    "#TF-IDF vectorization\n",
    "vectorizer = TfidfVectorizer()\n",
    "X = vectorizer.fit_transform(list_titles)\n",
    "print(X)"
   ]
  },
  {
   "cell_type": "code",
   "execution_count": null,
   "metadata": {
    "id": "TIfxeud1P9Rw"
   },
   "outputs": [],
   "source": [
    "#computing closest matches using the cosine similarity metric\n",
    "def closestkrecom(idx,k):\n",
    "  dist = sklearn.metrics.pairwise_distances( X, X[idx], metric='cosine') #cosine similarity - to measure similarity between two vectors\n",
    "  dist = np.squeeze(dist)\n",
    "  #print(dist.shape)\n",
    "  sort_idxs = np.random.choice(np.argsort(dist,kind = 'mergesort', axis=0)[1:],k) #argsort returns indices that would sort an array\n",
    "  return sort_idxs"
   ]
  },
  {
   "cell_type": "code",
   "execution_count": null,
   "metadata": {
    "id": "Ql3BpKFyyyGl"
   },
   "outputs": [],
   "source": [
    "import random\n",
    "import tensorflow as tf"
   ]
  },
  {
   "cell_type": "code",
   "execution_count": null,
   "metadata": {
    "colab": {
     "base_uri": "https://localhost:8080/"
    },
    "id": "JqfX1YLeP9aF",
    "outputId": "7ce77dc0-d0a3-4e3d-8858-306d2c864d28"
   },
   "outputs": [
    {
     "name": "stdout",
     "output_type": "stream",
     "text": [
      "Query Title--> i don't sweat i sparkle custom t shirt yellow top for juniors size small\n",
      "    bobeau womens medium surplice stretch knit tank top\n",
      "    floral grid printed tunic size large\n",
      "    mamisari nap queen crop top tee lazy sleep tired shirt tshirt\n",
      "    american rag womens classic black plus size embroidered sirt 2x\n",
      "    kersh ladies' french terry boatneck top black xxl\n",
      "\n",
      "Query Title--> violeta by mango women's plus size ruffled velvet top pink s\n",
      "    green floral art wear fringe caftan tunic top plus size oversized\n",
      "    merona womens black checkered 3 4 button down top small\n",
      "    eva varro peek a boo shoulders striped tunic black white gold 2x\n",
      "    felina\n",
      "    brooke leigh women's double front pocket plaid shirt black white red xl\n",
      "\n",
      "Query Title--> max mara women's alfio silk tunic sz 8 black\n",
      "    women's summer pastel candy colored tops tees lavender\n",
      "    catherine malandrino freya polyester ivory blouse xs\n",
      "    womens sexy layered round neck falbala sleeve short chiffon blouse shirt black\n",
      "    zeko women's t shirts splatoon game size xl royalblue\n",
      "    stoosh juniors' sleeveless button front blouse size s\n",
      "\n",
      "Query Title--> state of being womens blackout blooms crop top m pink\n",
      "    red house ladies 3 4 sleeve non iron button down shirt 4xl celery\n",
      "    reiss womens sail top xs\n",
      "    just want to cuddle shark womens black cami tank top l large\n",
      "    hue solid short sleeve top\n",
      "    premise womens size small sharkbite top forever paisley blue\n",
      "\n",
      "Query Title--> derek lam 10 crosby womens drawstring back top 4 white\n",
      "    women's plus size beaded long diamante vest top royal blue 22 24\n",
      "    socialite teal women large faux wrap embellished blouse green l\n",
      "    purple fishnet racerback seamless fashion tank top\n",
      "    mjartoria men women custom matching couple t shirts letter print tee tops\n",
      "    no boundaries juniors' henley scarf 2fer top navy xxl\n",
      "\n",
      "Query Title--> serena williams scarf top 222 338 aqua\n",
      "    wybu women's little red riding hood wolf t shirt black us size xs 100 cotton\n",
      "    adrianna papell women's black embroidered assymetrical blouse us medium\n",
      "    anna kaci s m fit white floral crochet lace bib applique high low tail hem top\n",
      "    official vin zzep blue sea thinking art s small gray t shirt women\n",
      "    2016 tank crop tops tropical pineapple print women\n",
      "\n",
      "Query Title--> mogul womens top bohemian blouse cotton button down shirt\n",
      "    embroidered kurti tunic authentic kurtis tops women size m\n",
      "    punk long sleeves v neck the highly textured knitted fabric military shirt（l）\n",
      "    guy harvey women's flipping flower long sleeve shirt xl purple\n",
      "    hunter bell womens nina print chiffon top garden small\n",
      "    ideology women's dolman sleeve burnout top neo teal m\n",
      "\n",
      "Query Title--> halogen jacquard buttoned women's small knit top blouse blue s\n",
      "    sexy red loose casual blouse sweater girl women bky13 028\n",
      "    como vintage women’s scoop neck floral embroidery bell sleeve blouse top white large\n",
      "    tory burch tia top navy blue red 0\n",
      "    very j women's trimmed top olive large\n",
      "    brunello cucinelli t shirt women's brown regular fit silk casual s it\n",
      "\n",
      "Query Title--> women's poison rock band flag skull design summer jersey ringer t shirt xl black\n",
      "    franklin marshall women's women's grey top size s grey\n",
      "    bloch womens geometric diamond embroidered mesh cross back front yoke camisole crop top morocco large\n",
      "    grace elements ladies size large v neck s s gathered side t shirt black\n",
      "    ya los angeles racerback jersey style tank fishnet neon orange s\n",
      "    reiss womens leondas blouse 6\n",
      "\n",
      "Query Title--> inc women's plus 3 4 sleeve beaded split neck tunic shirt 3x ikat scrolls\n",
      "    chloe k black women's mesh insert collared blouse blue xs\n",
      "    womens gilligan omalley white tank sleep shirt built in support xs\n",
      "    fruit loom ladyfit poplin long sleeve shir black uk 10 us 6 eu 38\n",
      "    lafayette 148 new york cap sleeve boat neck blouse women regular us 4 burgundy\n",
      "    pink rose three quarter sleeve top size s\n",
      "\n",
      "Query Title--> lush mint medium junior sheer printed cami blouse green m\n",
      "    active basic women's ribbed tank tops small stripe red\n",
      "    merona women's favorite cami large cool mint\n",
      "    maison margiela 1 multi color beads decorated women's blouse us m it 42\n",
      "    black rainbow love equal custom lgbtq t shirt top for juniors size medium\n",
      "    marolaya women's caftan poncho tunic plus size sexy tassel cover up\n",
      "\n",
      "Query Title--> xy tee women's t shirt the hunger games mockingjay royalblue size m\n",
      "    in bloom jonquil seagull chemise large white\n",
      "    mossimo supply co women's long sleeve thermal shirt real heather xs\n",
      "    carolines treasures 479m 4425 nawh xl pomchi mom tshirt ladies cut blue long sleeve extra large\n",
      "    shadow choker plus size shirt black size 14 xs\n",
      "    zuric world map t shirt print cute short sleeves crewneck t shirt m\n",
      "\n",
      "Query Title--> george women's casual v neck hi lo tulip blouse 1x teal\n",
      "    liz claiborne ny scoop neck jacquard textured top a226425 wisteria 3x\n",
      "    officially licensed merchandise dexter killer girly t shirt white medium\n",
      "    chengxingda women's shantae video games logo short sleeve t shirt l\n",
      "    kiind of womens chiffon sleeveless crop top blue l\n",
      "    fresh produce scoop neck women's t shirt blouse blue xs\n",
      "\n",
      "Query Title--> alice olivia black tracee crossover halter top 10\n",
      "    cowgirl tuff co womens red cross cutout top s tan\n",
      "    jenni pink falling hearts tank top l\n",
      "    esprit women's white melange women's printed jumper size m white\n",
      "    champion women's ultimate double dry polo athletic dark green medium\n",
      "    devon jones ladies' three quarter sleeve stretch poplin blouse wild geranium s\n",
      "\n",
      "Query Title--> vocal apparel women's tee shirt tunic tank small distressed pink\n",
      "    anti radiation protective shield maternity clothes belly tee pregnancy 8901900\n",
      "    piper womens piper saltillo cami s white\n",
      "    alfani petite roll tab layered hem pull over blouse modern aqua 8p\n",
      "    kiind of womens molly slub hi low pullover top green xs\n",
      "    ladies' page tuttle cool swing tipped raglan olympic blue s\n",
      "\n",
      "Query Title--> woman's janet jackson funny face t shirts purple l\n",
      "    no boundaries juniors tie front peasant top natural medium\n",
      "    anna kaci s m fit beige multicoloured peacock feathers design pullover top\n",
      "    escada sport womens silk blouse 36 blue\n",
      "    pink rose bud heel dalmatian t shirt l xl\n",
      "    demarkt women's asymmetric bat shirt casual loose chiffon blouse tops large blue\n",
      "\n",
      "Query Title--> animal oceania t shirt blue\n",
      "    frame denim le boyfriend cotton shirt small\n",
      "    fashion union women's denim collared crop top navy x large\n",
      "    dsquared2 100 silk black graphic see through women's tank top us s it 40\n",
      "    itemz womens poet linen shirt sz osfa sunny yellow 280156e\n",
      "    harlowe graham womens large high low button down shirt red l\n",
      "\n",
      "Query Title--> como vintage women’s rayon plaid casual bell sleeve blouse top soft blue pink large\n",
      "    farysays women's sexy cold shoulder blouse lace up ribbed tops\n",
      "    nayked apparel tri blend soft women's long sleeve scoop neck heatherwhite 2x\n",
      "    pleione black womens split neck printed sheer blouse\n",
      "    george simonton boatneck printed tunic chic jersey back a252978 sky blue m\n",
      "    sleeveless dress w neck band black\n",
      "\n",
      "Query Title--> geo stripe top\n",
      "    harlowe graham womens small high low chest pocket knit top blue s\n",
      "    pleione womens small short sleeve stretch knit top pink s\n",
      "    kain label womens classic pocket tee slate osfa\n",
      "    eagle u2 women's fashion tshirt my favorite hobby is collecting yarn black\n",
      "    anna kaci s m fit blue cord ruffle trim tiered hem drop waist denim blouse\n",
      "\n",
      "Query Title--> indistar women's cotton pullover tops t shirts tees xx large red\n",
      "    women's juniors soft lightweight v neck casual tee blue heather l\n",
      "    alo sport women's performance racerback tank white s\n",
      "    mixmax women long sleeve stripe splice crop top pullover hoodie small x white\n",
      "    purys women's lace shirt large ivory\n",
      "    j brand womens knit tank xs grey\n",
      "\n"
     ]
    }
   ],
   "source": [
    "#Apparel Recommendation\n",
    "for idx in random.sample(list(np.arange(len(df))), 20):\n",
    "  print('Query Title-->', df['title'][idx]) #idx is the index of the query title\n",
    "  for j in closestkrecom(idx,5): #here, j provides the indices of 5 closest recommendations of title stored in df['title'][idx]\n",
    "    print('   ',df['title'][j])\n",
    "  print()"
   ]
  }
 ],
 "metadata": {
  "accelerator": "GPU",
  "colab": {
   "gpuType": "T4",
   "provenance": []
  },
  "kernelspec": {
   "display_name": "Python 3 (ipykernel)",
   "language": "python",
   "name": "python3"
  },
  "language_info": {
   "codemirror_mode": {
    "name": "ipython",
    "version": 3
   },
   "file_extension": ".py",
   "mimetype": "text/x-python",
   "name": "python",
   "nbconvert_exporter": "python",
   "pygments_lexer": "ipython3",
   "version": "3.10.9"
  }
 },
 "nbformat": 4,
 "nbformat_minor": 1
}
